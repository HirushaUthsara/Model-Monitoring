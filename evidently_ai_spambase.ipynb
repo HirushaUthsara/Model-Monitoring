{
 "cells": [
  {
   "cell_type": "code",
   "execution_count": 2,
   "metadata": {},
   "outputs": [],
   "source": [
    "try:\n",
    "    import evidently\n",
    "except: \n",
    "    %pip install git+https://github.com/evidentlyai/evidently.git"
   ]
  },
  {
   "cell_type": "code",
   "execution_count": 3,
   "metadata": {},
   "outputs": [],
   "source": [
    "import pandas as pd \n",
    "\n",
    "from evidently import ColumnMapping\n",
    "from evidently.report import Report\n",
    "from evidently.metric_preset import DataDriftPreset, TargetDriftPreset"
   ]
  },
  {
   "cell_type": "code",
   "execution_count": 4,
   "metadata": {},
   "outputs": [
    {
     "name": "stdout",
     "output_type": "stream",
     "text": [
      "Requirement already satisfied: ucimlrepo in c:\\users\\hirushau\\appdata\\local\\anaconda3\\envs\\py310\\lib\\site-packages (0.0.3)Note: you may need to restart the kernel to use updated packages.\n",
      "\n"
     ]
    }
   ],
   "source": [
    "%pip install ucimlrepo"
   ]
  },
  {
   "cell_type": "code",
   "execution_count": 5,
   "metadata": {},
   "outputs": [
    {
     "name": "stdout",
     "output_type": "stream",
     "text": [
      "      word_freq_make  word_freq_address  word_freq_all  word_freq_3d  \\\n",
      "0               0.00               0.64           0.64           0.0   \n",
      "1               0.21               0.28           0.50           0.0   \n",
      "2               0.06               0.00           0.71           0.0   \n",
      "3               0.00               0.00           0.00           0.0   \n",
      "4               0.00               0.00           0.00           0.0   \n",
      "...              ...                ...            ...           ...   \n",
      "4596            0.31               0.00           0.62           0.0   \n",
      "4597            0.00               0.00           0.00           0.0   \n",
      "4598            0.30               0.00           0.30           0.0   \n",
      "4599            0.96               0.00           0.00           0.0   \n",
      "4600            0.00               0.00           0.65           0.0   \n",
      "\n",
      "      word_freq_our  word_freq_over  word_freq_remove  word_freq_internet  \\\n",
      "0              0.32            0.00              0.00                0.00   \n",
      "1              0.14            0.28              0.21                0.07   \n",
      "2              1.23            0.19              0.19                0.12   \n",
      "3              0.63            0.00              0.31                0.63   \n",
      "4              0.63            0.00              0.31                0.63   \n",
      "...             ...             ...               ...                 ...   \n",
      "4596           0.00            0.31              0.00                0.00   \n",
      "4597           0.00            0.00              0.00                0.00   \n",
      "4598           0.00            0.00              0.00                0.00   \n",
      "4599           0.32            0.00              0.00                0.00   \n",
      "4600           0.00            0.00              0.00                0.00   \n",
      "\n",
      "      word_freq_order  word_freq_mail  ...  char_freq_;  char_freq_(  \\\n",
      "0                0.00            0.00  ...        0.000        0.000   \n",
      "1                0.00            0.94  ...        0.000        0.132   \n",
      "2                0.64            0.25  ...        0.010        0.143   \n",
      "3                0.31            0.63  ...        0.000        0.137   \n",
      "4                0.31            0.63  ...        0.000        0.135   \n",
      "...               ...             ...  ...          ...          ...   \n",
      "4596             0.00            0.00  ...        0.000        0.232   \n",
      "4597             0.00            0.00  ...        0.000        0.000   \n",
      "4598             0.00            0.00  ...        0.102        0.718   \n",
      "4599             0.00            0.00  ...        0.000        0.057   \n",
      "4600             0.00            0.00  ...        0.000        0.000   \n",
      "\n",
      "      char_freq_[  char_freq_!  char_freq_$  char_freq_#  \\\n",
      "0             0.0        0.778        0.000        0.000   \n",
      "1             0.0        0.372        0.180        0.048   \n",
      "2             0.0        0.276        0.184        0.010   \n",
      "3             0.0        0.137        0.000        0.000   \n",
      "4             0.0        0.135        0.000        0.000   \n",
      "...           ...          ...          ...          ...   \n",
      "4596          0.0        0.000        0.000        0.000   \n",
      "4597          0.0        0.353        0.000        0.000   \n",
      "4598          0.0        0.000        0.000        0.000   \n",
      "4599          0.0        0.000        0.000        0.000   \n",
      "4600          0.0        0.125        0.000        0.000   \n",
      "\n",
      "      capital_run_length_average  capital_run_length_longest  \\\n",
      "0                          3.756                          61   \n",
      "1                          5.114                         101   \n",
      "2                          9.821                         485   \n",
      "3                          3.537                          40   \n",
      "4                          3.537                          40   \n",
      "...                          ...                         ...   \n",
      "4596                       1.142                           3   \n",
      "4597                       1.555                           4   \n",
      "4598                       1.404                           6   \n",
      "4599                       1.147                           5   \n",
      "4600                       1.250                           5   \n",
      "\n",
      "      capital_run_length_total  Class  \n",
      "0                          278      1  \n",
      "1                         1028      1  \n",
      "2                         2259      1  \n",
      "3                          191      1  \n",
      "4                          191      1  \n",
      "...                        ...    ...  \n",
      "4596                        88      0  \n",
      "4597                        14      0  \n",
      "4598                       118      0  \n",
      "4599                        78      0  \n",
      "4600                        40      0  \n",
      "\n",
      "[4601 rows x 58 columns]\n"
     ]
    }
   ],
   "source": [
    "from ucimlrepo import fetch_ucirepo \n",
    "  \n",
    "# fetch dataset \n",
    "spambase = fetch_ucirepo(id=94) \n",
    "  \n",
    "# data (as pandas dataframes) \n",
    "X = spambase.data.features \n",
    "y = spambase.data.targets \n",
    "df = pd.concat([X,y], axis=1)\n",
    "print(df)"
   ]
  },
  {
   "cell_type": "code",
   "execution_count": 6,
   "metadata": {},
   "outputs": [],
   "source": [
    "# Split your data into reference and current datasets\n",
    "reference_df = df.sample(frac=0.3, random_state=1)\n",
    "current_df = df.drop(reference_df.index)"
   ]
  },
  {
   "cell_type": "code",
   "execution_count": 7,
   "metadata": {},
   "outputs": [],
   "source": [
    "from evidently import ColumnMapping\n",
    "\n",
    "column_mapping = ColumnMapping()\n",
    "\n",
    "# Define categorical features\n",
    "column_mapping.categorical_features = []\n",
    "\n",
    "# Define numerical features\n",
    "column_mapping.numerical_features = [\n",
    "\"word_freq_make\",\n",
    "\"word_freq_address\",\n",
    "\"word_freq_all\",\n",
    "\"word_freq_3d\",\n",
    "\"word_freq_our\",\n",
    "\"word_freq_over\",\n",
    "\"word_freq_remove\",\n",
    "\"word_freq_internet\",\n",
    "\"word_freq_order\",\n",
    "\"word_freq_mail\",\n",
    "\"word_freq_receive\",\n",
    "\"word_freq_will\",\n",
    "\"word_freq_people\",\n",
    "\"word_freq_report\",\n",
    "\"word_freq_addresses\",\n",
    "\"word_freq_free\",\n",
    "\"word_freq_business\",\n",
    "\"word_freq_email\",\n",
    "\"word_freq_you\",\n",
    "\"word_freq_credit\",\n",
    "\"word_freq_your\",\n",
    "\"word_freq_font\",\n",
    "\"word_freq_000\",\n",
    "\"word_freq_money\",\n",
    "\"word_freq_hp\",\n",
    "\"word_freq_hpl\",\n",
    "\"word_freq_george\",\n",
    "\"word_freq_650\",\n",
    "\"word_freq_lab\",\n",
    "\"word_freq_labs\",\n",
    "\"word_freq_telnet\",\n",
    "\"word_freq_857\",\n",
    "\"word_freq_data\",\n",
    "\"word_freq_415\",\n",
    "\"word_freq_85\",\n",
    "\"word_freq_technology\",\n",
    "\"word_freq_1999\",\n",
    "\"word_freq_parts\",\n",
    "\"word_freq_pm\",\n",
    "\"word_freq_direct\",\n",
    "\"word_freq_cs\",\n",
    "\"word_freq_meeting\",\n",
    "\"word_freq_original\",\n",
    "\"word_freq_project\",\n",
    "\"word_freq_re\",\n",
    "\"word_freq_edu\",\n",
    "\"word_freq_table\",\n",
    "\"word_freq_conference\",\n",
    "\"char_freq_;\",\n",
    "\"char_freq_(\",\n",
    "\"char_freq_[\",\n",
    "\"char_freq_!\",\n",
    "\"char_freq_$\",\n",
    "\"char_freq_#\",\n",
    "\"capital_run_length_average\",\n",
    "\"capital_run_length_longest\",\n",
    "\"capital_run_length_total\"\n",
    "]"
   ]
  },
  {
   "cell_type": "code",
   "execution_count": 8,
   "metadata": {},
   "outputs": [],
   "source": [
    "# Create a report with DataDriftPreset\n",
    "data_drift_report = Report(metrics=[DataDriftPreset(stattest='ks',stattest_threshold=0.03)])\n",
    "data_drift_report.run(reference_data=reference_df, current_data=current_df, column_mapping=column_mapping)"
   ]
  },
  {
   "cell_type": "code",
   "execution_count": null,
   "metadata": {},
   "outputs": [],
   "source": [
    "# Visualize the report\n",
    "data_drift_report.save_html(\"spambase_report.html\")"
   ]
  },
  {
   "cell_type": "markdown",
   "metadata": {},
   "source": [
    "#### Create Custom Test to Integrate Frouros DDM detection for comcept Drift"
   ]
  },
  {
   "cell_type": "code",
   "execution_count": null,
   "metadata": {},
   "outputs": [],
   "source": [
    "from typing import Tuple\n",
    "from frouros.detectors.concept_drift import DDM, DDMConfig\n",
    "from evidently.calculations.stattests import StatTest"
   ]
  },
  {
   "cell_type": "code",
   "execution_count": null,
   "metadata": {},
   "outputs": [],
   "source": [
    "def frouros_ddm_drift_test(reference_data: pd.Series, current_data: pd.Series, _feature_type: str, threshold: float) -> Tuple[float, bool]:\n",
    "    # Detector configuration and instantiation\n",
    "    config = DDMConfig(\n",
    "        warning_level=2.0,\n",
    "        drift_level=3.0,\n",
    "        min_num_instances=25,  # minimum number of instances before checking for concept drift\n",
    "    )\n",
    "    detector = DDM(config=config)\n",
    "    \n",
    "    drift_flag = False\n",
    "    for i, (ref, cur) in enumerate(zip(reference_data, current_data)):\n",
    "        error = 1 - (cur == ref)\n",
    "        _ = detector.update(value=error)\n",
    "        status = detector.status\n",
    "        if status[\"drift\"] and not drift_flag:\n",
    "            drift_flag = True\n",
    "            return i, True  # return the step at which drift was detected and the boolean flag\n",
    "    return None, False  # return None if no drift was detected\n"
   ]
  },
  {
   "cell_type": "code",
   "execution_count": null,
   "metadata": {},
   "outputs": [],
   "source": [
    "frouros_ddm_stat_test = StatTest(\n",
    "    name=\"frouros_ddm_test\",\n",
    "    display_name=\"Frouros DDM Test (score)\",\n",
    "    func=frouros_ddm_drift_test,\n",
    "    allowed_feature_types=[\"num\"],  # replace with the correct feature types\n",
    ")"
   ]
  }
 ],
 "metadata": {
  "kernelspec": {
   "display_name": "py310",
   "language": "python",
   "name": "python3"
  },
  "language_info": {
   "codemirror_mode": {
    "name": "ipython",
    "version": 3
   },
   "file_extension": ".py",
   "mimetype": "text/x-python",
   "name": "python",
   "nbconvert_exporter": "python",
   "pygments_lexer": "ipython3",
   "version": "3.10.13"
  }
 },
 "nbformat": 4,
 "nbformat_minor": 2
}
