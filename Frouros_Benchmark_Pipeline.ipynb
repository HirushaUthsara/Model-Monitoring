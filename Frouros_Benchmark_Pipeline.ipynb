{
 "cells": [
  {
   "cell_type": "code",
   "execution_count": 20,
   "metadata": {},
   "outputs": [],
   "source": [
    "class DriftDetectionPipeline:\n",
    "    def __init__(self, detector):\n",
    "        self.detector = detector\n",
    "        self.drift_points = []\n",
    "\n",
    "    def fit(self, data_stream, attribute_index):\n",
    "        for i in range(len(data_stream)):\n",
    "            # Monitor the specified attribute for drift\n",
    "            attribute_value = data_stream[i][attribute_index]\n",
    "            self.detector.update(attribute_value)\n",
    "            \n",
    "            if self.detector.status[\"drift\"]:\n",
    "                print(f'Drift detected at index: {i}')\n",
    "                self.drift_points.append(i)\n",
    "\n",
    "        return self.drift_points\n",
    "\n",
    "    def evaluate(self, ground_truth):\n",
    "        # Compare self.drift_points with ground_truth\n",
    "        pass\n"
   ]
  },
  {
   "cell_type": "code",
   "execution_count": 21,
   "metadata": {},
   "outputs": [],
   "source": [
    "from frouros.detectors.concept_drift import DDM\n",
    "from scipy.io import arff\n",
    "import pandas as pd\n",
    "import numpy as np\n",
    "from frouros.detectors.concept_drift.streaming.statistical_process_control import DDMConfig"
   ]
  },
  {
   "cell_type": "code",
   "execution_count": 22,
   "metadata": {},
   "outputs": [],
   "source": [
    "\n",
    "# Load the .arff file into a pandas DataFrame\n",
    "data = arff.loadarff('datasets/real_datasets/sensor.arff')\n",
    "df = pd.DataFrame(data[0])\n",
    "\n",
    "# Convert the DataFrame to a numpy array for easier handling\n",
    "data_stream = df.to_numpy()\n"
   ]
  },
  {
   "cell_type": "code",
   "execution_count": 23,
   "metadata": {},
   "outputs": [],
   "source": [
    "\n",
    "# Initialize your specific drift detector\n",
    "config = DDMConfig(\n",
    "    warning_level=2.0,\n",
    "    drift_level=3.0,\n",
    "    min_num_instances=25,  # minimum number of instances before checking for concept drift\n",
    ")\n",
    "drift_detector = DDM(config=config)"
   ]
  },
  {
   "cell_type": "code",
   "execution_count": 24,
   "metadata": {},
   "outputs": [],
   "source": [
    "\n",
    "# Create a pipeline with your drift detector\n",
    "pipeline = DriftDetectionPipeline(drift_detector)\n"
   ]
  },
  {
   "cell_type": "code",
   "execution_count": 28,
   "metadata": {},
   "outputs": [
    {
     "name": "stderr",
     "output_type": "stream",
     "text": [
      "c:\\Users\\hirushau\\AppData\\Local\\anaconda3\\envs\\py310\\lib\\site-packages\\frouros\\detectors\\concept_drift\\streaming\\statistical_process_control\\base.py:253: RuntimeWarning: invalid value encountered in sqrt\n",
      "  std = np.sqrt(\n"
     ]
    }
   ],
   "source": [
    "\n",
    "# Fit the pipeline to your data stream\n",
    "drift_points = pipeline.fit(data_stream, 2)\n",
    "# Now 'drift_points' holds the indices of the detected drift points\n"
   ]
  },
  {
   "cell_type": "code",
   "execution_count": 29,
   "metadata": {},
   "outputs": [
    {
     "name": "stdout",
     "output_type": "stream",
     "text": [
      "[]\n"
     ]
    }
   ],
   "source": [
    "print(drift_points)"
   ]
  }
 ],
 "metadata": {
  "kernelspec": {
   "display_name": "py310",
   "language": "python",
   "name": "python3"
  },
  "language_info": {
   "codemirror_mode": {
    "name": "ipython",
    "version": 3
   },
   "file_extension": ".py",
   "mimetype": "text/x-python",
   "name": "python",
   "nbconvert_exporter": "python",
   "pygments_lexer": "ipython3",
   "version": "3.10.13"
  }
 },
 "nbformat": 4,
 "nbformat_minor": 2
}
