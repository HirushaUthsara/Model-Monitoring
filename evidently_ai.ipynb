{
 "cells": [
  {
   "cell_type": "code",
   "execution_count": 1,
   "metadata": {},
   "outputs": [],
   "source": [
    "try:\n",
    "    import evidently\n",
    "except: \n",
    "    %pip install git+https://github.com/evidentlyai/evidently.git"
   ]
  },
  {
   "cell_type": "code",
   "execution_count": 5,
   "metadata": {},
   "outputs": [],
   "source": [
    "import pandas as pd \n",
    "import numpy as np\n",
    "import requests\n",
    "import zipfile\n",
    "import io\n",
    "\n",
    "from datetime import datetime, time\n",
    "from sklearn import datasets, ensemble\n",
    "\n",
    "from evidently import ColumnMapping\n",
    "from evidently.report import Report\n",
    "from evidently.metric_preset import DataDriftPreset, TargetDriftPreset, RegressionPreset"
   ]
  },
  {
   "cell_type": "code",
   "execution_count": 12,
   "metadata": {},
   "outputs": [
    {
     "name": "stdout",
     "output_type": "stream",
     "text": [
      "   duration protocol_type      service   flag  src_bytes  dst_bytes  land  \\\n",
      "0       0.0        b'udp'  b'domain_u'  b'SF'       46.0       46.0  b'0'   \n",
      "1       0.0       b'icmp'     b'ecr_i'  b'SF'      520.0        0.0  b'0'   \n",
      "2       0.0       b'icmp'     b'ecr_i'  b'SF'     1032.0        0.0  b'0'   \n",
      "3       0.0        b'tcp'   b'private'  b'S0'        0.0        0.0  b'0'   \n",
      "4       0.0        b'tcp'   b'private'  b'S0'        0.0        0.0  b'0'   \n",
      "\n",
      "   wrong_fragment  urgent  hot  ...  dst_host_srv_count  \\\n",
      "0             0.0     0.0  0.0  ...               255.0   \n",
      "1             0.0     0.0  0.0  ...               255.0   \n",
      "2             0.0     0.0  0.0  ...               255.0   \n",
      "3             0.0     0.0  0.0  ...                 1.0   \n",
      "4             0.0     0.0  0.0  ...                11.0   \n",
      "\n",
      "  dst_host_same_srv_rate  dst_host_diff_srv_rate  dst_host_same_src_port_rate  \\\n",
      "0                   1.00                    0.00                          0.0   \n",
      "1                   1.00                    0.00                          1.0   \n",
      "2                   1.00                    0.00                          1.0   \n",
      "3                   0.00                    0.06                          0.0   \n",
      "4                   0.04                    0.07                          0.0   \n",
      "\n",
      "   dst_host_srv_diff_host_rate  dst_host_serror_rate  \\\n",
      "0                          0.0                   0.0   \n",
      "1                          0.0                   0.0   \n",
      "2                          0.0                   0.0   \n",
      "3                          0.0                   1.0   \n",
      "4                          0.0                   1.0   \n",
      "\n",
      "   dst_host_srv_serror_rate  dst_host_rerror_rate  dst_host_srv_rerror_rate  \\\n",
      "0                       0.0                   0.0                       0.0   \n",
      "1                       0.0                   0.0                       0.0   \n",
      "2                       0.0                   0.0                       0.0   \n",
      "3                       1.0                   0.0                       0.0   \n",
      "4                       1.0                   0.0                       0.0   \n",
      "\n",
      "         class  \n",
      "0   b'normal.'  \n",
      "1    b'smurf.'  \n",
      "2    b'smurf.'  \n",
      "3  b'neptune.'  \n",
      "4  b'neptune.'  \n",
      "\n",
      "[5 rows x 42 columns]\n"
     ]
    }
   ],
   "source": [
    "from scipy.io import arff\n",
    "import pandas as pd\n",
    "\n",
    "# Load the data\n",
    "data = arff.loadarff('/Users/hirushau/Code/Model-Monitoring/datasets/real_datasets/kddcup99.arff')\n",
    "df = pd.DataFrame(data[0])\n",
    "\n",
    "# Now you can view your data\n",
    "print(df.head())"
   ]
  }
 ],
 "metadata": {
  "kernelspec": {
   "display_name": "py310",
   "language": "python",
   "name": "python3"
  },
  "language_info": {
   "codemirror_mode": {
    "name": "ipython",
    "version": 3
   },
   "file_extension": ".py",
   "mimetype": "text/x-python",
   "name": "python",
   "nbconvert_exporter": "python",
   "pygments_lexer": "ipython3",
   "version": "3.10.13"
  }
 },
 "nbformat": 4,
 "nbformat_minor": 2
}
