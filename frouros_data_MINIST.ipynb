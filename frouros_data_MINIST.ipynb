{
    "cells": [
        {
            "cell_type": "code",
            "execution_count": 1,
            "metadata": {
                "ExecuteTime": {
                    "end_time": "2023-07-22T14:05:40.303559853Z",
                    "start_time": "2023-07-22T14:05:38.249664723Z"
                },
                "collapsed": false
            },
            "outputs": [],
            "source": [
                "import copy\n",
                "from typing import Optional, Union\n",
                "\n",
                "import matplotlib.pyplot as plt\n",
                "import numpy as np\n",
                "from scipy.stats import gaussian_kde\n",
                "from tqdm.notebook import tqdm\n",
                "import torch\n",
                "from torch import nn\n",
                "from torch.utils.data import Dataset\n",
                "import torchvision\n",
                "\n",
                "from frouros.callbacks import PermutationTestDistanceBased\n",
                "from frouros.detectors.data_drift import MMD"
            ]
        },
        {
            "cell_type": "markdown",
            "metadata": {
                "collapsed": false
            },
            "source": [
                "# MNIST dataset"
            ]
        },
        {
            "cell_type": "markdown",
            "metadata": {
                "collapsed": false
            },
            "source": [
                "In order to ensure reproducibility, a set_seed function is use, as well as the device where to perform PyTorch operations (CPU or GPU)."
            ]
        },
        {
            "cell_type": "code",
            "execution_count": 2,
            "metadata": {
                "ExecuteTime": {
                    "end_time": "2023-07-22T14:05:40.303827779Z",
                    "start_time": "2023-07-22T14:05:40.302482181Z"
                },
                "collapsed": false
            },
            "outputs": [],
            "source": [
                "def set_seed(seed=31):\n",
                "    torch.backends.cudnn.deterministic = True\n",
                "    torch.backends.cudnn.benchmark = False\n",
                "    torch.manual_seed(seed)\n",
                "    np.random.seed(seed)"
            ]
        },
        {
            "cell_type": "code",
            "execution_count": 3,
            "metadata": {
                "ExecuteTime": {
                    "end_time": "2023-07-22T14:05:40.308274374Z",
                    "start_time": "2023-07-22T14:05:40.302639962Z"
                },
                "collapsed": false
            },
            "outputs": [],
            "source": [
                "seed = 31\n",
                "set_seed(seed=seed)\n",
                "device = torch.device(\"cuda\" if torch.cuda.is_available() else \"cpu\")"
            ]
        },
        {
            "cell_type": "markdown",
            "metadata": {
                "collapsed": false
            },
            "source": [
                "Data is split in:\n",
                "- Train: These images will be only used to train an autoencoder that will allow to reduce the dimensionality from 784(28x28x1) to 5 dimensions \n",
                "- Reference: These images will represent the samples that come from the training distribution and will act as a reference. 30000 samples.\n"
            ]
        },
        {
            "cell_type": "code",
            "execution_count": 4,
            "metadata": {
                "ExecuteTime": {
                    "end_time": "2023-07-22T14:05:40.386769419Z",
                    "start_time": "2023-07-22T14:05:40.317391386Z"
                },
                "collapsed": false
            },
            "outputs": [
                {
                    "name": "stdout",
                    "output_type": "stream",
                    "text": [
                        "Downloading http://yann.lecun.com/exdb/mnist/train-images-idx3-ubyte.gz\n",
                        "Downloading http://yann.lecun.com/exdb/mnist/train-images-idx3-ubyte.gz to /tmp/mnist/train/MNIST\\raw\\train-images-idx3-ubyte.gz\n"
                    ]
                },
                {
                    "name": "stderr",
                    "output_type": "stream",
                    "text": [
                        "100%|██████████| 9912422/9912422 [00:09<00:00, 1093508.18it/s]\n"
                    ]
                },
                {
                    "name": "stdout",
                    "output_type": "stream",
                    "text": [
                        "Extracting /tmp/mnist/train/MNIST\\raw\\train-images-idx3-ubyte.gz to /tmp/mnist/train/MNIST\\raw\n",
                        "\n",
                        "Downloading http://yann.lecun.com/exdb/mnist/train-labels-idx1-ubyte.gz\n",
                        "Downloading http://yann.lecun.com/exdb/mnist/train-labels-idx1-ubyte.gz to /tmp/mnist/train/MNIST\\raw\\train-labels-idx1-ubyte.gz\n"
                    ]
                },
                {
                    "name": "stderr",
                    "output_type": "stream",
                    "text": [
                        "100%|██████████| 28881/28881 [00:00<00:00, 311699.29it/s]\n"
                    ]
                },
                {
                    "name": "stdout",
                    "output_type": "stream",
                    "text": [
                        "Extracting /tmp/mnist/train/MNIST\\raw\\train-labels-idx1-ubyte.gz to /tmp/mnist/train/MNIST\\raw\n",
                        "\n",
                        "Downloading http://yann.lecun.com/exdb/mnist/t10k-images-idx3-ubyte.gz\n",
                        "Downloading http://yann.lecun.com/exdb/mnist/t10k-images-idx3-ubyte.gz to /tmp/mnist/train/MNIST\\raw\\t10k-images-idx3-ubyte.gz\n"
                    ]
                },
                {
                    "name": "stderr",
                    "output_type": "stream",
                    "text": [
                        "100%|██████████| 1648877/1648877 [00:03<00:00, 548219.23it/s] \n"
                    ]
                },
                {
                    "name": "stdout",
                    "output_type": "stream",
                    "text": [
                        "Extracting /tmp/mnist/train/MNIST\\raw\\t10k-images-idx3-ubyte.gz to /tmp/mnist/train/MNIST\\raw\n",
                        "\n",
                        "Downloading http://yann.lecun.com/exdb/mnist/t10k-labels-idx1-ubyte.gz\n",
                        "Downloading http://yann.lecun.com/exdb/mnist/t10k-labels-idx1-ubyte.gz to /tmp/mnist/train/MNIST\\raw\\t10k-labels-idx1-ubyte.gz\n"
                    ]
                },
                {
                    "name": "stderr",
                    "output_type": "stream",
                    "text": [
                        "100%|██████████| 4542/4542 [00:00<00:00, 5140455.68it/s]\n"
                    ]
                },
                {
                    "name": "stdout",
                    "output_type": "stream",
                    "text": [
                        "Extracting /tmp/mnist/train/MNIST\\raw\\t10k-labels-idx1-ubyte.gz to /tmp/mnist/train/MNIST\\raw\n",
                        "\n",
                        "Downloading http://yann.lecun.com/exdb/mnist/train-images-idx3-ubyte.gz\n",
                        "Downloading http://yann.lecun.com/exdb/mnist/train-images-idx3-ubyte.gz to /tmp/mnist/test/MNIST\\raw\\train-images-idx3-ubyte.gz\n"
                    ]
                },
                {
                    "name": "stderr",
                    "output_type": "stream",
                    "text": [
                        "100%|██████████| 9912422/9912422 [00:18<00:00, 526405.65it/s] \n"
                    ]
                },
                {
                    "name": "stdout",
                    "output_type": "stream",
                    "text": [
                        "Extracting /tmp/mnist/test/MNIST\\raw\\train-images-idx3-ubyte.gz to /tmp/mnist/test/MNIST\\raw\n",
                        "\n",
                        "Downloading http://yann.lecun.com/exdb/mnist/train-labels-idx1-ubyte.gz\n",
                        "Downloading http://yann.lecun.com/exdb/mnist/train-labels-idx1-ubyte.gz to /tmp/mnist/test/MNIST\\raw\\train-labels-idx1-ubyte.gz\n"
                    ]
                },
                {
                    "name": "stderr",
                    "output_type": "stream",
                    "text": [
                        "100%|██████████| 28881/28881 [00:00<00:00, 719213.51it/s]\n"
                    ]
                },
                {
                    "name": "stdout",
                    "output_type": "stream",
                    "text": [
                        "Extracting /tmp/mnist/test/MNIST\\raw\\train-labels-idx1-ubyte.gz to /tmp/mnist/test/MNIST\\raw\n",
                        "\n",
                        "Downloading http://yann.lecun.com/exdb/mnist/t10k-images-idx3-ubyte.gz\n",
                        "Downloading http://yann.lecun.com/exdb/mnist/t10k-images-idx3-ubyte.gz to /tmp/mnist/test/MNIST\\raw\\t10k-images-idx3-ubyte.gz\n"
                    ]
                },
                {
                    "name": "stderr",
                    "output_type": "stream",
                    "text": [
                        "100%|██████████| 1648877/1648877 [00:01<00:00, 1247848.60it/s]\n"
                    ]
                },
                {
                    "name": "stdout",
                    "output_type": "stream",
                    "text": [
                        "Extracting /tmp/mnist/test/MNIST\\raw\\t10k-images-idx3-ubyte.gz to /tmp/mnist/test/MNIST\\raw\n",
                        "\n",
                        "Downloading http://yann.lecun.com/exdb/mnist/t10k-labels-idx1-ubyte.gz\n",
                        "Downloading http://yann.lecun.com/exdb/mnist/t10k-labels-idx1-ubyte.gz to /tmp/mnist/test/MNIST\\raw\\t10k-labels-idx1-ubyte.gz\n"
                    ]
                },
                {
                    "name": "stderr",
                    "output_type": "stream",
                    "text": [
                        "100%|██████████| 4542/4542 [00:00<00:00, 4735403.62it/s]"
                    ]
                },
                {
                    "name": "stdout",
                    "output_type": "stream",
                    "text": [
                        "Extracting /tmp/mnist/test/MNIST\\raw\\t10k-labels-idx1-ubyte.gz to /tmp/mnist/test/MNIST\\raw\n",
                        "\n"
                    ]
                },
                {
                    "name": "stderr",
                    "output_type": "stream",
                    "text": [
                        "\n"
                    ]
                }
            ],
            "source": [
                "transform = torchvision.transforms.Compose(\n",
                "    [\n",
                "        torchvision.transforms.ToTensor(),  # Convert images to the range [0.0, 1.0] (normalize)\n",
                "    ]\n",
                ")\n",
                "\n",
                "batch_size = 64\n",
                "\n",
                "train_all_dataset = torchvision.datasets.MNIST(\n",
                "    root=\"/tmp/mnist/train/\",\n",
                "    train=True,\n",
                "    download=True,\n",
                "    transform=transform,\n",
                ")\n",
                "\n",
                "test_dataset = torchvision.datasets.MNIST(\n",
                "    root=\"/tmp/mnist/test/\",\n",
                "    train=False,\n",
                "    download=True,\n",
                "    transform=transform,\n",
                ")\n",
                "\n",
                "train_all_dataset_size = len(train_all_dataset)\n",
                "train_dataset_size = int(train_all_dataset_size * 0.5)\n",
                "reference_dataset_size = train_all_dataset_size - train_dataset_size\n",
                "\n",
                "train_dataset, reference_dataset = torch.utils.data.random_split(dataset=train_all_dataset, lengths=[train_dataset_size, reference_dataset_size], generator=torch.Generator().manual_seed(31))\n",
                "\n",
                "train_data_loader = torch.utils.data.DataLoader(  # 30000 samples\n",
                "    dataset=train_dataset,\n",
                "    batch_size=batch_size,\n",
                "    shuffle=True\n",
                ")"
            ]
        },
        {
            "cell_type": "code",
            "execution_count": 5,
            "metadata": {
                "ExecuteTime": {
                    "end_time": "2023-07-22T14:05:40.393987856Z",
                    "start_time": "2023-07-22T14:05:40.388788246Z"
                },
                "collapsed": false
            },
            "outputs": [],
            "source": [
                "def imshow(img):\n",
                "    npimg = img.numpy()\n",
                "    fig = plt.figure(figsize=(10, 10))\n",
                "    plt.imshow(np.transpose(npimg, (1, 2, 0)), cmap=plt.cm.gray)\n",
                "    fig.tight_layout()\n",
                "    plt.show()"
            ]
        },
        {
            "cell_type": "code",
            "execution_count": 6,
            "metadata": {
                "ExecuteTime": {
                    "end_time": "2023-07-22T14:05:40.752103643Z",
                    "start_time": "2023-07-22T14:05:40.393664932Z"
                },
                "collapsed": false
            },
            "outputs": [
                {
                    "data": {
                        "image/png": "[encoded data removed]",
                        "text/plain": [
                            "<Figure size 1000x1000 with 1 Axes>"
                        ]
                    },
                    "metadata": {},
                    "output_type": "display_data"
                }
            ],
            "source": [
                "dataiter = iter(train_data_loader)\n",
                "images, labels = next(dataiter)\n",
                "\n",
                "imshow(torchvision.utils.make_grid(images))"
            ]
        },
        {
            "cell_type": "code",
            "execution_count": 7,
            "metadata": {
                "ExecuteTime": {
                    "end_time": "2023-07-22T14:05:54.377014303Z",
                    "start_time": "2023-07-22T14:05:40.715494420Z"
                },
                "collapsed": false
            },
            "outputs": [
                {
                    "data": {
                        "application/vnd.jupyter.widget-view+json": {
                            "model_id": "8a1de38735c94b4ebfc2a4a89bbdb634",
                            "version_major": 2,
                            "version_minor": 0
                        },
                        "text/plain": [
                            "  0%|          | 0/30000 [00:00<?, ?it/s]"
                        ]
                    },
                    "metadata": {},
                    "output_type": "display_data"
                },
                {
                    "data": {
                        "application/vnd.jupyter.widget-view+json": {
                            "model_id": "2d6e223ee91747889f59d442ad2782b4",
                            "version_major": 2,
                            "version_minor": 0
                        },
                        "text/plain": [
                            "  0%|          | 0/30000 [00:00<?, ?it/s]"
                        ]
                    },
                    "metadata": {},
                    "output_type": "display_data"
                },
                {
                    "data": {
                        "application/vnd.jupyter.widget-view+json": {
                            "model_id": "7ae0ac5ba10a4a4885789e85283cd80b",
                            "version_major": 2,
                            "version_minor": 0
                        },
                        "text/plain": [
                            "  0%|          | 0/10000 [00:00<?, ?it/s]"
                        ]
                    },
                    "metadata": {},
                    "output_type": "display_data"
                }
            ],
            "source": [
                "X_train = np.array([X_sample.tolist() for X_sample, _ in tqdm(train_dataset)]).astype(np.float32)\n",
                "X_ref = np.array([X_sample.tolist() for X_sample, _ in tqdm(reference_dataset)]).astype(np.float32)\n",
                "X_test = np.array([X_sample.tolist() for X_sample, _ in tqdm(test_dataset)]).astype(np.float32)"
            ]
        },
        {
            "cell_type": "markdown",
            "metadata": {
                "collapsed": false
            },
            "source": [
                "The following is a definition of the parts that make up the autoencoder.\n",
                "\n",
                "First, the encoder is implemented, which has a very simple architecture in which a convolution section is used, followed by a flatten layer and finally a normal pair of hidden layers that map the output of the convolution section to the desired dimensional space."
            ]
        },
        {
            "cell_type": "code",
            "execution_count": 8,
            "metadata": {
                "ExecuteTime": {
                    "end_time": "2023-07-22T14:05:54.384313217Z",
                    "start_time": "2023-07-22T14:05:54.382444162Z"
                },
                "collapsed": false
            },
            "outputs": [],
            "source": [
                "class Encoder(nn.Module):\n",
                "\n",
                "    def __init__(self, latent_dim: int):\n",
                "        super().__init__()\n",
                "\n",
                "        self.encoder_conv = nn.Sequential(\n",
                "            nn.Conv2d(1, 8, 3, stride=2, padding=1),\n",
                "            nn.ReLU(True),\n",
                "            nn.Conv2d(8, 16, 3, stride=2, padding=1),\n",
                "            nn.BatchNorm2d(16),\n",
                "            nn.ReLU(True),\n",
                "            nn.Conv2d(16, 32, 3, stride=2, padding=0),\n",
                "            nn.ReLU(True)\n",
                "        )\n",
                "\n",
                "        self.flatten = nn.Flatten(start_dim=1)\n",
                "\n",
                "        self.encoder_lin = nn.Sequential(\n",
                "            nn.Linear(3 * 3 * 32, 128),\n",
                "            nn.ReLU(True),\n",
                "            nn.Linear(128, latent_dim)\n",
                "        )\n",
                "\n",
                "    def forward(self, x):\n",
                "        x = self.encoder_conv(x)\n",
                "        x = self.flatten(x)\n",
                "        x = self.encoder_lin(x)\n",
                "        return x"
            ]
        },
        {
            "cell_type": "markdown",
            "metadata": {
                "collapsed": false
            },
            "source": [
                "The decoder simply performs the reverse process of the encoder to obtain the same initial dimensionality reconstructed from the encoder output."
            ]
        },
        {
            "cell_type": "code",
            "execution_count": 9,
            "metadata": {
                "ExecuteTime": {
                    "end_time": "2023-07-22T14:05:54.392546389Z",
                    "start_time": "2023-07-22T14:05:54.384807470Z"
                },
                "collapsed": false
            },
            "outputs": [],
            "source": [
                "class Decoder(nn.Module):\n",
                "\n",
                "    def __init__(self, latent_dim: int):\n",
                "        super().__init__()\n",
                "\n",
                "        self.decoder_lin = nn.Sequential(\n",
                "            nn.Linear(latent_dim, 128),\n",
                "            nn.ReLU(True),\n",
                "            nn.Linear(128, 3 * 3 * 32),\n",
                "            nn.ReLU(True)\n",
                "        )\n",
                "\n",
                "        self.unflatten = nn.Unflatten(dim=1,\n",
                "        unflattened_size=(32, 3, 3))\n",
                "\n",
                "        self.decoder_conv = nn.Sequential(\n",
                "            nn.ConvTranspose2d(32, 16, 3,\n",
                "            stride=2, output_padding=0),\n",
                "            nn.BatchNorm2d(16),\n",
                "            nn.ReLU(True),\n",
                "            nn.ConvTranspose2d(16, 8, 3, stride=2,\n",
                "            padding=1, output_padding=1),\n",
                "            nn.BatchNorm2d(8),\n",
                "            nn.ReLU(True),\n",
                "            nn.ConvTranspose2d(8, 1, 3, stride=2,\n",
                "            padding=1, output_padding=1)\n",
                "        )\n",
                "\n",
                "    def forward(self, x):\n",
                "        x = self.decoder_lin(x)\n",
                "        x = self.unflatten(x)\n",
                "        x = self.decoder_conv(x)\n",
                "        x = torch.sigmoid(x)\n",
                "        return x"
            ]
        },
        {
            "cell_type": "markdown",
            "metadata": {
                "collapsed": false
            },
            "source": [
                "Both blocks combine to form the autoencoder architecture."
            ]
        },
        {
            "cell_type": "code",
            "execution_count": 10,
            "metadata": {
                "ExecuteTime": {
                    "end_time": "2023-07-22T14:05:54.418777777Z",
                    "start_time": "2023-07-22T14:05:54.397031263Z"
                },
                "collapsed": false
            },
            "outputs": [],
            "source": [
                "class Autoencoder(nn.Module):\n",
                "\n",
                "    def __init__(self, latent_dim: int) -> None:\n",
                "        super().__init__()\n",
                "        self.encoder = Encoder(\n",
                "            latent_dim=latent_dim,\n",
                "        )\n",
                "        self.decoder = Decoder(\n",
                "            latent_dim=latent_dim,\n",
                "        )\n",
                "\n",
                "    def forward(self, x):\n",
                "        encoded = self.encoder(x)\n",
                "        decoded = self.decoder(encoded)\n",
                "        return encoded, decoded"
            ]
        },
        {
            "cell_type": "markdown",
            "metadata": {
                "collapsed": false
            },
            "source": [
                "As stated above, the bottleneck dimension of the autoencoder will be 5."
            ]
        },
        {
            "cell_type": "code",
            "execution_count": 11,
            "metadata": {
                "ExecuteTime": {
                    "end_time": "2023-07-22T14:05:54.448355094Z",
                    "start_time": "2023-07-22T14:05:54.400685619Z"
                },
                "collapsed": false
            },
            "outputs": [],
            "source": [
                "latent_dim = 5\n",
                "\n",
                "autoencoder = Autoencoder(\n",
                "    latent_dim=latent_dim,\n",
                ")"
            ]
        },
        {
            "cell_type": "markdown",
            "metadata": {
                "collapsed": false
            },
            "source": [
                "In order to prevent that the autoencoder simple learns to copy the input to the output (identity function), we implement contractive loss {cite:p}`rifai2011contractive` as a regularizer to learn some meaningful representation of the input in the bottleneck dimensions. For the optimizer, Adam {cite:p}`kingma2014adam` is use."
            ]
        },
        {
            "cell_type": "code",
            "execution_count": 12,
            "metadata": {
                "ExecuteTime": {
                    "end_time": "2023-07-22T14:05:54.448670202Z",
                    "start_time": "2023-07-22T14:05:54.443089131Z"
                },
                "collapsed": false
            },
            "outputs": [],
            "source": [
                "def contractive_loss(outputs_e, outputs, inputs, lamda = 1e-4):\n",
                "    assert outputs.shape == inputs.shape ,f'outputs.shape : {outputs.shape} != inputs.shape : {inputs.shape}'\n",
                "    criterion = nn.MSELoss()\n",
                "    loss1 = criterion(outputs, inputs)\n",
                "\n",
                "    outputs_e.backward(torch.ones(outputs_e.size()), retain_graph=True)\n",
                "    loss2 = torch.sqrt(torch.sum(torch.pow(inputs.grad, 2)))\n",
                "    inputs.grad.data.zero_()\n",
                "\n",
                "    loss = loss1 + (lamda*loss2)\n",
                "    return loss\n",
                "\n",
                "optimizer = torch.optim.Adam(autoencoder.parameters(), lr=0.001)"
            ]
        },
        {
            "cell_type": "markdown",
            "metadata": {
                "collapsed": false
            },
            "source": [
                "Autoencoder is trained during 3 epochs and printing the loss every 100 batches of images."
            ]
        },
        {
            "cell_type": "code",
            "execution_count": 13,
            "metadata": {
                "ExecuteTime": {
                    "end_time": "2023-07-22T14:06:20.978868410Z",
                    "start_time": "2023-07-22T14:05:54.443339607Z"
                },
                "collapsed": false
            },
            "outputs": [
                {
                    "name": "stdout",
                    "output_type": "stream",
                    "text": [
                        "[1,   100] loss: 0.156\n",
                        "[1,   200] loss: 0.086\n",
                        "[1,   300] loss: 0.055\n",
                        "[1,   400] loss: 0.044\n",
                        "[2,   100] loss: 0.036\n",
                        "[2,   200] loss: 0.034\n",
                        "[2,   300] loss: 0.033\n",
                        "[2,   400] loss: 0.032\n",
                        "[3,   100] loss: 0.030\n",
                        "[3,   200] loss: 0.030\n",
                        "[3,   300] loss: 0.030\n",
                        "[3,   400] loss: 0.029\n"
                    ]
                }
            ],
            "source": [
                "epochs = 3\n",
                "\n",
                "for epoch in range(epochs):\n",
                "\n",
                "    running_loss = 0.0\n",
                "    for i, (inputs, _) in enumerate(train_data_loader, 0):\n",
                "        inputs.requires_grad = True\n",
                "        inputs.retain_grad()\n",
                "\n",
                "        outputs_e, outputs = autoencoder(inputs)\n",
                "        loss = contractive_loss(outputs_e, outputs, inputs)\n",
                "\n",
                "        inputs.requires_grad = False\n",
                "\n",
                "        optimizer.zero_grad()\n",
                "        loss.backward()\n",
                "        optimizer.step()\n",
                "\n",
                "        running_loss += loss.item()\n",
                "\n",
                "        if i % 100 == 99:\n",
                "            print(f'[{epoch + 1}, {i + 1:5d}] loss: {running_loss / 100:.3f}')\n",
                "            running_loss = 0.0"
            ]
        },
        {
            "cell_type": "markdown",
            "metadata": {
                "collapsed": false
            },
            "source": [
                "An original training sample is shown below, with the reconstruction made by autoencoder from the 5 dimensions."
            ]
        },
        {
            "cell_type": "code",
            "execution_count": 14,
            "metadata": {
                "ExecuteTime": {
                    "end_time": "2023-07-22T14:06:21.110417002Z",
                    "start_time": "2023-07-22T14:06:20.983760323Z"
                },
                "collapsed": false
            },
            "outputs": [
                {
                    "data": {
                        "image/png": "[encoded data removed]",
                        "text/plain": [
                            "<Figure size 1000x1000 with 1 Axes>"
                        ]
                    },
                    "metadata": {},
                    "output_type": "display_data"
                }
            ],
            "source": [
                "imshow(img=torch.Tensor(X_ref[1]))"
            ]
        },
        {
            "cell_type": "code",
            "execution_count": 15,
            "metadata": {
                "ExecuteTime": {
                    "end_time": "2023-07-22T14:06:21.123725692Z",
                    "start_time": "2023-07-22T14:06:21.113853356Z"
                },
                "collapsed": false
            },
            "outputs": [],
            "source": [
                "test_sample = torch.Tensor(np.expand_dims(X_ref[1], axis=0))\n",
                "_, X_reconstructed = autoencoder(test_sample)\n",
                "X_reconstructed = torch.squeeze(X_reconstructed, axis=0)"
            ]
        },
        {
            "cell_type": "code",
            "execution_count": 16,
            "metadata": {
                "ExecuteTime": {
                    "end_time": "2023-07-22T14:06:21.259435742Z",
                    "start_time": "2023-07-22T14:06:21.122697413Z"
                },
                "collapsed": false
            },
            "outputs": [
                {
                    "data": {
                        "image/png": "[encoded data removed]",
                        "text/plain": [
                            "<Figure size 1000x1000 with 1 Axes>"
                        ]
                    },
                    "metadata": {},
                    "output_type": "display_data"
                }
            ],
            "source": [
                "imshow(img=X_reconstructed.detach())"
            ]
        },
        {
            "cell_type": "code",
            "execution_count": 17,
            "metadata": {
                "ExecuteTime": {
                    "end_time": "2023-07-22T14:06:21.267461655Z",
                    "start_time": "2023-07-22T14:06:21.258309357Z"
                },
                "collapsed": false
            },
            "outputs": [
                {
                    "name": "stdout",
                    "output_type": "stream",
                    "text": [
                        "Downloading http://yann.lecun.com/exdb/mnist/train-images-idx3-ubyte.gz\n",
                        "Downloading http://yann.lecun.com/exdb/mnist/train-images-idx3-ubyte.gz to /tmp/mnist/test-2/MNIST\\raw\\train-images-idx3-ubyte.gz\n"
                    ]
                },
                {
                    "name": "stderr",
                    "output_type": "stream",
                    "text": [
                        "100%|██████████| 9912422/9912422 [00:09<00:00, 1064932.42it/s]\n"
                    ]
                },
                {
                    "name": "stdout",
                    "output_type": "stream",
                    "text": [
                        "Extracting /tmp/mnist/test-2/MNIST\\raw\\train-images-idx3-ubyte.gz to /tmp/mnist/test-2/MNIST\\raw\n",
                        "\n",
                        "Downloading http://yann.lecun.com/exdb/mnist/train-labels-idx1-ubyte.gz\n",
                        "Downloading http://yann.lecun.com/exdb/mnist/train-labels-idx1-ubyte.gz to /tmp/mnist/test-2/MNIST\\raw\\train-labels-idx1-ubyte.gz\n"
                    ]
                },
                {
                    "name": "stderr",
                    "output_type": "stream",
                    "text": [
                        "100%|██████████| 28881/28881 [00:00<00:00, 998521.98it/s]\n"
                    ]
                },
                {
                    "name": "stdout",
                    "output_type": "stream",
                    "text": [
                        "Extracting /tmp/mnist/test-2/MNIST\\raw\\train-labels-idx1-ubyte.gz to /tmp/mnist/test-2/MNIST\\raw\n",
                        "\n",
                        "Downloading http://yann.lecun.com/exdb/mnist/t10k-images-idx3-ubyte.gz\n",
                        "Downloading http://yann.lecun.com/exdb/mnist/t10k-images-idx3-ubyte.gz to /tmp/mnist/test-2/MNIST\\raw\\t10k-images-idx3-ubyte.gz\n"
                    ]
                },
                {
                    "name": "stderr",
                    "output_type": "stream",
                    "text": [
                        "100%|██████████| 1648877/1648877 [00:01<00:00, 1260466.34it/s]\n"
                    ]
                },
                {
                    "name": "stdout",
                    "output_type": "stream",
                    "text": [
                        "Extracting /tmp/mnist/test-2/MNIST\\raw\\t10k-images-idx3-ubyte.gz to /tmp/mnist/test-2/MNIST\\raw\n",
                        "\n",
                        "Downloading http://yann.lecun.com/exdb/mnist/t10k-labels-idx1-ubyte.gz\n",
                        "Downloading http://yann.lecun.com/exdb/mnist/t10k-labels-idx1-ubyte.gz to /tmp/mnist/test-2/MNIST\\raw\\t10k-labels-idx1-ubyte.gz\n"
                    ]
                },
                {
                    "name": "stderr",
                    "output_type": "stream",
                    "text": [
                        "100%|██████████| 4542/4542 [00:00<00:00, 3192647.69it/s]"
                    ]
                },
                {
                    "name": "stdout",
                    "output_type": "stream",
                    "text": [
                        "Extracting /tmp/mnist/test-2/MNIST\\raw\\t10k-labels-idx1-ubyte.gz to /tmp/mnist/test-2/MNIST\\raw\n",
                        "\n"
                    ]
                },
                {
                    "name": "stderr",
                    "output_type": "stream",
                    "text": [
                        "\n"
                    ]
                }
            ],
            "source": [
                "test_dataset = torchvision.datasets.MNIST(\n",
                "    root=\"/tmp/mnist/test-2/\",\n",
                "    train=False,\n",
                "    download=True,\n",
                ")"
            ]
        },
        {
            "cell_type": "markdown",
            "metadata": {
                "collapsed": false
            },
            "source": [
                "A custom dataset class is used to apply each transformation to the images."
            ]
        },
        {
            "cell_type": "code",
            "execution_count": 18,
            "metadata": {
                "ExecuteTime": {
                    "end_time": "2023-07-22T14:06:21.274817472Z",
                    "start_time": "2023-07-22T14:06:21.272156825Z"
                },
                "collapsed": false
            },
            "outputs": [],
            "source": [
                "class CustomMNIST(Dataset):\n",
                "\n",
                "    def __init__(\n",
                "        self,\n",
                "        subset,\n",
                "        transform: Optional[Union[torch.nn.Module, torchvision.transforms.Compose]] = None\n",
                "    ) -> None:\n",
                "        self.subset = subset\n",
                "        self.transform = transform\n",
                "\n",
                "    def __getitem__(self, index):\n",
                "        x, y = self.subset[index]\n",
                "        if self.transform:\n",
                "            x = self.transform(x)\n",
                "        return x, y\n",
                "\n",
                "    def __len__(self) -> int:\n",
                "        return len(self.subset)"
            ]
        },
        {
            "cell_type": "code",
            "execution_count": 19,
            "metadata": {
                "ExecuteTime": {
                    "end_time": "2023-07-22T14:06:21.328662595Z",
                    "start_time": "2023-07-22T14:06:21.278408608Z"
                },
                "collapsed": false
            },
            "outputs": [],
            "source": [
                "gaussian_blur_dataset = CustomMNIST(\n",
                "    subset=test_dataset,\n",
                "    transform=torchvision.transforms.Compose(\n",
                "        [\n",
                "            torchvision.transforms.GaussianBlur(\n",
                "                kernel_size=(5, 9),\n",
                "                sigma=1.25,\n",
                "            ),\n",
                "            torchvision.transforms.ToTensor(),\n",
                "        ],\n",
                "    ),\n",
                ")\n",
                "\n",
                "elastic_transform_dataset = CustomMNIST(\n",
                "    subset=test_dataset,\n",
                "    transform=torchvision.transforms.Compose(\n",
                "        [\n",
                "            torchvision.transforms.ElasticTransform(\n",
                "                alpha=60.0,\n",
                "                sigma=5.0,\n",
                "            ),\n",
                "            torchvision.transforms.ToTensor(),\n",
                "        ],\n",
                "    ),\n",
                ")"
            ]
        },
        {
            "cell_type": "code",
            "execution_count": 20,
            "metadata": {
                "ExecuteTime": {
                    "end_time": "2023-07-22T14:06:21.599025579Z",
                    "start_time": "2023-07-22T14:06:21.289066394Z"
                },
                "collapsed": false
            },
            "outputs": [
                {
                    "data": {
                        "image/png": "[encoded data removed]",
                        "text/plain": [
                            "<Figure size 1000x1000 with 3 Axes>"
                        ]
                    },
                    "metadata": {},
                    "output_type": "display_data"
                }
            ],
            "source": [
                "fig, axs = plt.subplots(nrows=1,\n",
                "                        ncols=3,\n",
                "                        figsize=(10, 10))\n",
                "\n",
                "for ax, img, title in zip(axs.flat,\n",
                "                          [torchvision.transforms.ToTensor()(test_dataset[0][0]),\n",
                "                           gaussian_blur_dataset[0][0],\n",
                "                           elastic_transform_dataset[0][0]],\n",
                "                          [\"Original\",\n",
                "                           \"Gaussian Blur\",\n",
                "                           \"Elastic Transform\"]):\n",
                "    ax.imshow(np.transpose(img, (1, 2, 0)), cmap=plt.cm.gray)\n",
                "    ax.set_title(title)\n",
                "\n",
                "fig.tight_layout()\n",
                "plt.show()"
            ]
        },
        {
            "cell_type": "markdown",
            "metadata": {
                "collapsed": false
            },
            "source": [
                "The encoder part of the trained autoencoder is used to obtain the 5 latent dimensions of the reference dataset."
            ]
        },
        {
            "cell_type": "code",
            "execution_count": 21,
            "metadata": {
                "ExecuteTime": {
                    "end_time": "2023-07-22T14:06:43.163689979Z",
                    "start_time": "2023-07-22T14:06:21.612317574Z"
                },
                "collapsed": false
            },
            "outputs": [
                {
                    "data": {
                        "application/vnd.jupyter.widget-view+json": {
                            "model_id": "a73ff5da6b554f4aaecaa653a9db106d",
                            "version_major": 2,
                            "version_minor": 0
                        },
                        "text/plain": [
                            "  0%|          | 0/10000 [00:00<?, ?it/s]"
                        ]
                    },
                    "metadata": {},
                    "output_type": "display_data"
                },
                {
                    "data": {
                        "application/vnd.jupyter.widget-view+json": {
                            "model_id": "8f02cd7390d844a988eb39867dd1c548",
                            "version_major": 2,
                            "version_minor": 0
                        },
                        "text/plain": [
                            "  0%|          | 0/10000 [00:00<?, ?it/s]"
                        ]
                    },
                    "metadata": {},
                    "output_type": "display_data"
                }
            ],
            "source": [
                "X_test_gaussian_blur = np.array([X_sample.tolist() for X_sample, _ in tqdm(gaussian_blur_dataset)]).astype(np.float32)\n",
                "X_test_elastic_transform = np.array([X_sample.tolist() for X_sample, _ in tqdm(elastic_transform_dataset)]).astype(np.float32)"
            ]
        },
        {
            "cell_type": "code",
            "execution_count": 22,
            "metadata": {
                "ExecuteTime": {
                    "end_time": "2023-07-22T14:06:43.579007424Z",
                    "start_time": "2023-07-22T14:06:43.167174814Z"
                },
                "collapsed": false
            },
            "outputs": [],
            "source": [
                "with torch.no_grad():\n",
                "    X_ref_encoded = autoencoder.encoder(torch.Tensor(X_ref)).numpy()\n",
                "    X_test_gaussian_blur_encoded = autoencoder.encoder(torch.Tensor(X_test_gaussian_blur)).numpy()\n",
                "    X_test_elastic_transform_encoded = autoencoder.encoder(torch.Tensor(X_test_elastic_transform)).numpy()"
            ]
        },
        {
            "cell_type": "markdown",
            "metadata": {
                "collapsed": false
            },
            "source": [
                "A significance level of $\\alpha = 0.05$ is set to perform the hypothesis test."
            ]
        },
        {
            "cell_type": "code",
            "execution_count": 23,
            "metadata": {
                "ExecuteTime": {
                    "end_time": "2023-07-22T14:06:43.583183795Z",
                    "start_time": "2023-07-22T14:06:43.580949683Z"
                },
                "collapsed": false
            },
            "outputs": [],
            "source": [
                "alpha = 0.05"
            ]
        },
        {
            "cell_type": "markdown",
            "metadata": {
                "collapsed": false
            },
            "source": [
                "Maximum Mean Discrepancy (MMD) {cite:p}`JMLR:v13:gretton12a` imported from Frouros is used with a Radial Basis Function kernel (RBF), set by default in MMD. In addition to calculating the corresponding MMD statistic, p-value is estimated using permutation test.\n",
                "\n",
                "**Note:**\n",
                "Only 1000 of the 30000 samples of the reference dataset are used to fit the detector, as well as 1000 samples per each of the three test datasets (reference, gaussian blur and elastic transform). This is due to the high memory requirements demanded by MMD."
            ]
        },
        {
            "cell_type": "code",
            "execution_count": 24,
            "metadata": {
                "ExecuteTime": {
                    "end_time": "2023-07-22T14:06:43.592511423Z",
                    "start_time": "2023-07-22T14:06:43.585641979Z"
                },
                "collapsed": false
            },
            "outputs": [],
            "source": [
                "num_samples = 1000\n",
                "\n",
                "detector = MMD(\n",
                "    callbacks=[\n",
                "        PermutationTestDistanceBased(\n",
                "            num_permutations=1000,\n",
                "            random_state=seed,\n",
                "            num_jobs=-1,\n",
                "            name=\"permutation_test\",\n",
                "            verbose=False,\n",
                "        ),\n",
                "    ],\n",
                ")\n",
                "_ = detector.fit(X=X_ref_encoded[:num_samples])"
            ]
        },
        {
            "cell_type": "code",
            "execution_count": 25,
            "metadata": {
                "ExecuteTime": {
                    "end_time": "2023-07-22T14:06:43.598845375Z",
                    "start_time": "2023-07-22T14:06:43.595308498Z"
                },
                "collapsed": false
            },
            "outputs": [],
            "source": [
                "X_ref_sample = X_ref_encoded[np.random.randint(low=num_samples, high=X_ref_encoded.shape[0], size=num_samples)]\n",
                "X_gaussian_blur_sample = X_test_gaussian_blur_encoded[np.random.randint(low=0, high=X_test_gaussian_blur_encoded.shape[0], size=num_samples)]\n",
                "X_elastic_transform_sample = X_test_elastic_transform_encoded[np.random.randint(low=0, high=X_test_elastic_transform_encoded.shape[0], size=num_samples)]"
            ]
        },
        {
            "cell_type": "markdown",
            "metadata": {
                "collapsed": false
            },
            "source": [
                "Compare each test dataset to the dataset fitted by MMD."
            ]
        },
        {
            "cell_type": "code",
            "execution_count": 26,
            "metadata": {
                "ExecuteTime": {
                    "end_time": "2023-07-22T14:07:06.233315122Z",
                    "start_time": "2023-07-22T14:06:43.601798690Z"
                },
                "collapsed": false
            },
            "outputs": [
                {
                    "name": "stdout",
                    "output_type": "stream",
                    "text": [
                        "Reference:\n",
                        "  MMD statistic=0.0004, p-value=0.131, drift=False\n",
                        "GaussianBlur(kernel_size=(5, 9), sigma=1.25):\n",
                        "  MMD statistic=0.0022, p-value=0.0, drift=True\n",
                        "ElasticTransform(alpha=60.0, sigma=5.0):\n",
                        "  MMD statistic=0.0018, p-value=0.001, drift=True\n"
                    ]
                }
            ],
            "source": [
                "permutation_test_logs = {}\n",
                "\n",
                "for sample, type_ in zip([X_ref_sample,\n",
                "                          X_gaussian_blur_sample,\n",
                "                          X_elastic_transform_sample],\n",
                "                         [\"Reference\",\n",
                "                          \"GaussianBlur(kernel_size=(5, 9), sigma=1.25)\",\n",
                "                          \"ElasticTransform(alpha=60.0, sigma=5.0)\"]\n",
                "                         ):\n",
                "    mmd, callbacks_logs = detector.compare(X=sample)\n",
                "    permutation_test_logs[type_] = copy.copy(callbacks_logs[\"permutation_test\"])\n",
                "    mmd, p_value = mmd.distance, callbacks_logs[\"permutation_test\"][\"p_value\"]\n",
                "    print(f\"{type_}:\\n  MMD statistic={round(mmd, 4)}, p-value={round(p_value, 4)}, drift={p_value <= alpha}\")"
            ]
        },
        {
            "cell_type": "markdown",
            "metadata": {
                "collapsed": false
            },
            "source": [
                "As expected, GaussianBlur and ElasticTransform datasets are significantly different (drift) from the reference dataset. Test reference samples are confirmed to be from the sample distribution of the original dataset (no drift).\n",
                "\n",
                "The following are the graphs of the permutation tests."
            ]
        },
        {
            "cell_type": "code",
            "execution_count": 27,
            "metadata": {
                "ExecuteTime": {
                    "end_time": "2023-07-22T14:07:08.316761798Z",
                    "start_time": "2023-07-22T14:07:06.262514071Z"
                },
                "collapsed": false
            },
            "outputs": [],
            "source": [
                "num_bins = 25\n",
                "x_values = 100\n",
                "num_percentile = 100-alpha*100\n",
                "\n",
                "n_rows = 3\n",
                "fig, axs = plt.subplots(nrows=n_rows, ncols=1, figsize=(8, 8), sharex=True, sharey=True, dpi=600)\n",
                "\n",
                "y_lim = 0.0\n",
                "\n",
                "for ax, (type_, permutation_test) in zip(axs.flat, permutation_test_logs.items()):\n",
                "\n",
                "    permutation_tests = permutation_test[\"permuted_statistics\"]\n",
                "    observed_statistic = permutation_test[\"observed_statistic\"]\n",
                "    p_value = permutation_test[\"p_value\"]\n",
                "\n",
                "    ax.hist(permutation_tests, bins=num_bins, density=True)\n",
                "    xs = np.linspace(min(permutation_tests), max(permutation_tests), num=x_values)\n",
                "    permutation_tests_density = gaussian_kde(permutation_tests).evaluate(xs)\n",
                "    ax.plot(xs, permutation_tests_density, label=\"KDE\")\n",
                "    ax.axvline(observed_statistic, color=\"green\", linestyle=\"--\", label=\"Observed distance\")\n",
                "    ax.set_title(type_)\n",
                "    drift = p_value <= alpha\n",
                "    ax.text(0.88, 0.15, \"Drift\" if drift else \"No drift\", transform=ax.transAxes, fontsize=12, bbox={\"boxstyle\": \"round\", \"facecolor\": \"red\" if drift else \"green\", \"alpha\":0.5})\n",
                "\n",
                "    # Get the y limit\n",
                "    ax_y_lim = max(ax.get_lines()[0].get_ydata())\n",
                "    if y_lim < ax_y_lim:\n",
                "        y_lim = ax_y_lim\n",
                "\n",
                "# Finish plot using the y limit\n",
                "for ax, (_, permutation_test) in zip(axs.flat, permutation_test_logs.items()):\n",
                "    permutation_tests = permutation_test[\"permuted_statistics\"]\n",
                "    p_value = permutation_test[\"p_value\"]\n",
                "\n",
                "    percentile = np.percentile(permutation_tests, q=num_percentile)\n",
                "    ax.axvline(percentile, color=\"red\", linestyle=\"--\", label=\"Significance threshold\")\n",
                "    ax.text(percentile, y_lim/n_rows, s=f\"p-value = {p_value:.4f}\", rotation=270, color=\"red\", fontsize=10)\n",
                "    ax.legend(fontsize=8)\n",
                "\n",
                "fig.suptitle(\"Permutation tests\", fontsize=\"x-large\")\n",
                "fig.supxlabel(\"MMD²\")\n",
                "fig.supylabel(\"Density\")\n",
                "fig.tight_layout()\n",
                "plt.show()"
            ]
        },
        {
            "cell_type": "markdown",
            "metadata": {
                "collapsed": false
            },
            "source": [
                "```{bibliography}\n",
                ":filter: docname in docnames\n",
                "```"
            ]
        }
    ],
    "metadata": {
        "kernelspec": {
            "display_name": "Python 3",
            "language": "python",
            "name": "python3"
        },
        "language_info": {
            "codemirror_mode": {
                "name": "ipython",
                "version": 3
            },
            "file_extension": ".py",
            "mimetype": "text/x-python",
            "name": "python",
            "nbconvert_exporter": "python",
            "pygments_lexer": "ipython3",
            "version": "3.10.13"
        }
    },
    "nbformat": 4,
    "nbformat_minor": 0
}
