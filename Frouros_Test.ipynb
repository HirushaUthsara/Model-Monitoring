{
 "cells": [
  {
   "cell_type": "code",
   "execution_count": null,
   "metadata": {},
   "outputs": [],
   "source": [
    "# Import necessary libraries\n",
    "import numpy as np\n",
    "from sklearn.datasets import load_iris\n",
    "from sklearn.linear_model import LogisticRegression\n",
    "from sklearn.model_selection import train_test_split\n",
    "from sklearn.pipeline import Pipeline\n",
    "from sklearn.preprocessing import StandardScaler\n",
    "from frouros.detectors.concept_drift import DDM, DDMConfig\n",
    "from frouros.metrics import PrequentialError\n"
   ]
  },
  {
   "cell_type": "code",
   "execution_count": null,
   "metadata": {},
   "outputs": [],
   "source": [
    "\n",
    "# Set a random seed for reproducibility\n",
    "np.random.seed(seed=31)\n",
    "\n",
    "# Load the Iris dataset\n",
    "X, y = load_iris(return_X_y=True)\n",
    "\n",
    "# Split the dataset into training (70%) and testing (30%) sets\n",
    "X_train, X_test, y_train, y_test = train_test_split(X, y, train_size=0.7, random_state=31)\n"
   ]
  },
  {
   "cell_type": "code",
   "execution_count": null,
   "metadata": {},
   "outputs": [],
   "source": [
    "\n",
    "# Define a machine learning pipeline\n",
    "# This pipeline first standardizes the data (StandardScaler) and then applies a logistic regression model\n",
    "pipeline = Pipeline([\n",
    "    (\"scaler\", StandardScaler()),\n",
    "    (\"model\", LogisticRegression()),\n",
    "])\n",
    "\n",
    "# Fit the model to the training data\n",
    "pipeline.fit(X=X_train, y=y_train)\n"
   ]
  },
  {
   "cell_type": "code",
   "execution_count": null,
   "metadata": {},
   "outputs": [],
   "source": [
    "\n",
    "# Define the configuration for the drift detector\n",
    "# The warning level is set to 2.0, the drift level to 3.0, and the minimum number of instances before checking for concept drift is 25\n",
    "config = DDMConfig(\n",
    "    warning_level=2.0,\n",
    "    drift_level=3.0,\n",
    "    min_num_instances=25,\n",
    ")\n",
    "\n",
    "# Instantiate the drift detector with the defined configuration\n",
    "detector = DDM(config=config)\n",
    "\n",
    "# Define a metric to compute accuracy\n",
    "# Here, we use the PrequentialError metric with alpha=1.0, which is equivalent to normal accuracy\n",
    "metric = PrequentialError(alpha=1.0)\n"
   ]
  }
 ],
 "metadata": {
  "language_info": {
   "name": "python"
  }
 },
 "nbformat": 4,
 "nbformat_minor": 2
}
